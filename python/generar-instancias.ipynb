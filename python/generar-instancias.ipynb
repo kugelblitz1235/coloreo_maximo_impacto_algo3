{
 "cells": [
  {
   "cell_type": "markdown",
   "metadata": {},
   "source": [
    "# Generador de instancias\n",
    "En este notebook está el código para generar los sets de instancias que se usan para experimentar.\n",
    "- Estas instancias van a ser guardadas en la carpeta __instancias__.\n",
    "- Cada set estará en su propia carpeta y tendrá un archivo _indice.csv_ que contendrá información sobre las instancias."
   ]
  },
  {
   "cell_type": "code",
   "execution_count": 7,
   "metadata": {},
   "outputs": [],
   "source": [
    "import random, math\n",
    "import pandas as pd\n",
    "from random import randrange"
   ]
  },
  {
   "cell_type": "code",
   "execution_count": 8,
   "metadata": {},
   "outputs": [],
   "source": [
    "def save_instance(dataset, instance_name, n, G, H):\n",
    "    with open(F\"instancias/{dataset}/{instance_name}.txt\", \"w\") as f:\n",
    "        print(n, len(G),len(H),file=f)\n",
    "        for aristaG in G: \n",
    "            print(str(aristaG[0])+\" \"+str(aristaG[1]), file=f, end=\"\\n\")\n",
    "        for aristaH in H: \n",
    "            print(str(aristaH[0])+\" \"+str(aristaH[1]), file=f, end=\"\\n\")\n",
    "\n",
    "def save_index(dataset, instances):\n",
    "    with open(F\"instancias/{dataset}/instances.txt\", \"w\") as f:\n",
    "        for instance in instances: \n",
    "            print(instance, file=f)"
   ]
  },
  {
   "cell_type": "code",
   "execution_count": 9,
   "metadata": {},
   "outputs": [],
   "source": [
    "def aristas_diff(l1, l2):#devuelve las aristas de l1 que no estan en l2\n",
    "    dif = [i for i in l1 if i not in l2]\n",
    "    return dif\n",
    "def diff(l1, l2):#devuelve la cantidad de aristas de l1 que no estan en l2\n",
    "    dif = [i for i in l1 if i not in l2]\n",
    "    return len(dif)\n",
    "\n",
    "def distEucli(l1, l2):\n",
    "    acum = 0\n",
    "    for i  in range(0, len(l1)):\n",
    "        acum = acum + (l1[i] - l2[i])** 2\n",
    "    acum = acum**(1/2)\n",
    "    return acum\n",
    "\n",
    "def ordenAdy(vec,n):\n",
    "    ady = []\n",
    "    for i in range(int(n)+1):\n",
    "        ady = ady + [[]]\n",
    "    for p in vec:\n",
    "        ady[p[0]] = ady[p[0]] + [p]\n",
    "        ady[p[1]] = ady[p[1]] + [p]\n",
    "    for i in range(int(n)+1):\n",
    "        ady[i] = ady[i] + [i]\n",
    "    ady.pop(0)\n",
    "    ady.sort(key=len, reverse=True)\n",
    "    for i in range(0,int(n)):\n",
    "        ady[i] = ady[i][-1]\n",
    "    return ady\n",
    "\n",
    "def parOrd(a,b):\n",
    "    if a < b:\n",
    "        par = (a,b)\n",
    "    else:\n",
    "        par = (b,a)\n",
    "    return par\n",
    "\n",
    "def enlazar(n,caristas):\n",
    "    vec = []\n",
    "    for i in range(int(caristas)):\n",
    "        estaEn = True\n",
    "        while estaEn:\n",
    "            mismos = True\n",
    "            while mismos:\n",
    "                a = randrange(1, int(n)+1)\n",
    "                b = randrange(1, int(n)+1)\n",
    "                if a != b:\n",
    "                    mismos = False\n",
    "            par = parOrd(a,b)\n",
    "            if par not in vec:\n",
    "                estaEn = False \n",
    "        vec = vec + [par]\n",
    "    return vec"
   ]
  },
  {
   "cell_type": "markdown",
   "metadata": {},
   "source": [
    "## Dataset 1\n",
    "Instancias generadas para el peor caso en cuanto a impacto de la primer heuristica golosa constructiva que se basa en el coloreo secuencial de los vertices, la generación de las mismas está descripta en el informe."
   ]
  },
  {
   "cell_type": "code",
   "execution_count": 10,
   "metadata": {},
   "outputs": [],
   "source": [
    "filas_indice = []\n",
    "for cantidad_vertices in range(10, 50):\n",
    "    for caristasG in range(math.floor(cantidad_vertices/2),5*cantidad_vertices,5):\n",
    "        h = []\n",
    "        g = enlazar(cantidad_vertices,caristasG) #[(v,w)..]\n",
    "        orden = ordenAdy(g,cantidad_vertices)#lista de los vertices ordenados por adyacencia según grado en G\n",
    "        for i in range(int(int(cantidad_vertices)/2)):\n",
    "            a = orden[i]\n",
    "            b = orden[i + int(int(cantidad_vertices)/2)]\n",
    "            par = parOrd(a,b)\n",
    "            h = h + [par]\n",
    "        impacto_esperado = diff(h,g)\n",
    "        save_instance(\"peor-caso-hs1\", F\"HS1-AG{caristasG}-PC-{cantidad_vertices}\",cantidad_vertices,g,h)\n",
    "        filas_indice.append([\"peor-caso-hs1\", F\"HS1-AG{caristasG}-PC-{cantidad_vertices}\", cantidad_vertices, impacto_esperado, F\"instancias/peor-caso-hs1/HS1-AG{caristasG}-PC-{cantidad_vertices}.txt\"])\n",
    "pd.DataFrame(filas_indice, columns=[\"dataset\", \"instancia\", \"cantidad_vertices\", \"impacto_esperado\", \"archivo\"]).to_csv(\"instancias/peor-caso-hs1/indice.csv\", index=False, header=True)"
   ]
  },
  {
   "cell_type": "markdown",
   "metadata": {},
   "source": [
    "## Dataset 2\n",
    "Instancias generadas para el mejor caso para la calidad de la primer heuristica golosa constructiva que se basa en el coloreo secuencial de los vertices, la generación de las mismas está descripta en el informe."
   ]
  },
  {
   "cell_type": "code",
   "execution_count": 11,
   "metadata": {},
   "outputs": [],
   "source": [
    "filas_indice = []\n",
    "for cantidad_vertices in range(10, 50):\n",
    "    for caristasG in range(math.floor(cantidad_vertices/2),5*cantidad_vertices,5):\n",
    "        h = []\n",
    "        g =  enlazar(cantidad_vertices,caristasG)\n",
    "        orden = ordenAdy(g,cantidad_vertices)#orden de evaluacion de las aristas\n",
    "        for i in range(int(cantidad_vertices)-1):\n",
    "            a = orden[i]\n",
    "            b = orden[i+1]\n",
    "            par = parOrd(a,b)\n",
    "            j = i + 2\n",
    "            while par in h and j < int(cantidad_vertices):\n",
    "                b = orden[j]\n",
    "                par = parOrd(a,b)\n",
    "                j = j+1\n",
    "            if j == int(cantidad_vertices) and par in h:\n",
    "                b = orden[i-1]\n",
    "                par = parOrd(b,a)\n",
    "                j = i - 2\n",
    "                while par in h and j >= 0:\n",
    "                    b = orden[j]\n",
    "                    par = parOrd(a,b)\n",
    "                    j = j - 1\n",
    "            if par not in h:\n",
    "                h = h + [par]\n",
    "        impacto_esperado = diff(h,g)\n",
    "        save_instance(\"mejor-caso-hs1\", F\"HS1-AG{caristasG}-MC-{cantidad_vertices}\",cantidad_vertices,g,h)\n",
    "        filas_indice.append([\"mejor-caso-hs1\", F\"HS1-AG{caristasG}-MC-{cantidad_vertices}\", cantidad_vertices, impacto_esperado, F\"instancias/mejor-caso-hs1/HS1-AG{caristasG}-MC-{cantidad_vertices}.txt\"])\n",
    "pd.DataFrame(filas_indice, columns=[\"dataset\", \"instancia\", \"cantidad_vertices\", \"impacto_esperado\", \"archivo\"]).to_csv(\"instancias/mejor-caso-hs1/indice.csv\", index=False, header=True)"
   ]
  },
  {
   "cell_type": "markdown",
   "metadata": {},
   "source": [
    "## Dataset 3\n",
    "Instancias de peor caso con respecto al impacto obtenido para la segunda heuristica golosa constructiva secuencial, están descriptas en el informe en más detalle."
   ]
  },
  {
   "cell_type": "code",
   "execution_count": 12,
   "metadata": {},
   "outputs": [],
   "source": [
    "filas_indice = []\n",
    "for cantidad_vertices in range(10, 50):\n",
    "    for caristasH in range(math.floor(cantidad_vertices/2),5*cantidad_vertices,5):\n",
    "        h = enlazar(cantidad_vertices,caristasH)\n",
    "        g = []\n",
    "        orden = ordenAdy(h,cantidad_vertices)\n",
    "        for i in range(int(cantidad_vertices)-1):\n",
    "            a = orden[i] \n",
    "            b = orden[i+1]\n",
    "            par = parOrd(a,b)\n",
    "            j = i + 2\n",
    "            while par in g and j < int(cantidad_vertices):\n",
    "                b = orden[j]\n",
    "                par = parOrd(a,b)\n",
    "                j = j+1\n",
    "            if j == int(cantidad_vertices) and par in g:\n",
    "                b = orden[i-1]\n",
    "                par = parOrd(b,a)\n",
    "                j = i - 2\n",
    "                while par in g and j >= 0:\n",
    "                    b = orden[j]\n",
    "                    par = parOrd(a,b)\n",
    "                    j = j - 1\n",
    "            if par not in g:\n",
    "                g = g + [par]\n",
    "        impacto_esperado = diff(h,g) #utilizamos una cota superior para el impacto optimo\n",
    "        save_instance(\"peor-caso-hs2\", F\"HS2-AH{caristasH}-PC-{cantidad_vertices}\",cantidad_vertices,g,h)\n",
    "        filas_indice.append([\"peor-caso-hs2\", F\"HS2-AH{caristasH}-PC-{cantidad_vertices}\", cantidad_vertices, impacto_esperado, F\"instancias/peor-caso-hs2/HS2-AH{caristasH}-PC-{cantidad_vertices}.txt\"])\n",
    "pd.DataFrame(filas_indice, columns=[\"dataset\", \"instancia\", \"cantidad_vertices\", \"impacto_esperado\", \"archivo\"]).to_csv(\"instancias/peor-caso-hs2/indice.csv\", index=False, header=True)"
   ]
  },
  {
   "cell_type": "markdown",
   "metadata": {},
   "source": [
    "## Dataset 4\n",
    "Instancias de mejor caso de calidad para la segunda heuristica constructiva golosa, están descriptas en el informe en más detalle."
   ]
  },
  {
   "cell_type": "code",
   "execution_count": 13,
   "metadata": {},
   "outputs": [],
   "source": [
    "filas_indice = []\n",
    "for cantidad_vertices in range(10, 50):\n",
    "    for caristasH in range(math.floor(cantidad_vertices/2),5*cantidad_vertices,5):\n",
    "        h = enlazar(cantidad_vertices, caristasH)\n",
    "        g = []\n",
    "        orden = ordenAdy(h,cantidad_vertices)\n",
    "        for i in range(int(int(cantidad_vertices)/2)):\n",
    "            a = orden[i]\n",
    "            b = orden[i + int(int(cantidad_vertices)/2)]\n",
    "            par = parOrd(a,b)\n",
    "            g = g + [par]\n",
    "        impacto_esperado = diff(h,g) #utilizamos una cota superior para el impacto optimo\n",
    "        save_instance(\"mejor-caso-hs2\", F\"HS2-AH{caristasH}-MC-{cantidad_vertices}\",cantidad_vertices,g,h)\n",
    "        filas_indice.append([\"mejor-caso-hs2\", F\"HS2-AH{caristasH}-MC-{cantidad_vertices}\", cantidad_vertices, impacto_esperado, F\"instancias/mejor-caso-hs2/HS2-AH{caristasH}-MC-{cantidad_vertices}.txt\"])\n",
    "pd.DataFrame(filas_indice, columns=[\"dataset\", \"instancia\", \"cantidad_vertices\", \"impacto_esperado\", \"archivo\"]).to_csv(\"instancias/mejor-caso-hs2/indice.csv\", index=False, header=True)"
   ]
  },
  {
   "cell_type": "markdown",
   "metadata": {},
   "source": [
    "# Dataset 6\n",
    "Instancias generadas de forma aleatoria para una gran aplitud de valores."
   ]
  },
  {
   "cell_type": "code",
   "execution_count": 14,
   "metadata": {},
   "outputs": [],
   "source": [
    "filas_indice = []\n",
    "for cantidad_vertices in range(10, 111,2):\n",
    "    for caristasH in range(math.floor(cantidad_vertices/2),5*cantidad_vertices,10):\n",
    "        for caristasG in range(math.floor(cantidad_vertices/2),5*cantidad_vertices,10):\n",
    "            h = enlazar(cantidad_vertices,caristasH)\n",
    "            g = enlazar(cantidad_vertices,caristasG)\n",
    "    \n",
    "            impacto_esperado = diff(h,g) #utilizamos una cota superior para el impacto optimo\n",
    "            save_instance(\"instancias-costo\", F\"IC-AG{caristasG}-AH{caristasH}-n{cantidad_vertices}\",cantidad_vertices,g,h)\n",
    "            filas_indice.append([\"instancias-costo\", F\"IC-AG{caristasG}-AH{caristasH}-n{cantidad_vertices}\", cantidad_vertices, impacto_esperado, F\"instancias/instancias-costo/IC-AG{caristasG}-AH{caristasH}-n{cantidad_vertices}.txt\"])\n",
    "pd.DataFrame(filas_indice, columns=[\"dataset\", \"instancia\", \"cantidad_vertices\", \"impacto_esperado\", \"archivo\"]).to_csv(\"instancias/instancias-costo/indice.csv\", index=False, header=True)"
   ]
  },
  {
   "cell_type": "markdown",
   "metadata": {},
   "source": [
    "# Dataset 7\n",
    "Instancias provistas por la catedra para la medición de calidad de nuestro algoritmos."
   ]
  },
  {
   "cell_type": "code",
   "execution_count": 15,
   "metadata": {},
   "outputs": [],
   "source": [
    "#solamente generamos el indice, dado que las instancias ya nos fueron provistas por la catedra\n",
    "filas_indice = []\n",
    "filas_indice.append([\"instancias-calidad\", F\"CMI_n6\", 6, 1, F\"instancias/instancias-calidad/CMI_n6.in\"])\n",
    "filas_indice.append([\"instancias-calidad\", F\"CMI_n8\", 8, 6, F\"instancias/instancias-calidad/CMI_n8.in\"])\n",
    "filas_indice.append([\"instancias-calidad\", F\"CMI_n10\", 10, 3, F\"instancias/instancias-calidad/CMI_n10.in\"])\n",
    "filas_indice.append([\"instancias-calidad\", F\"CMI_n12\", 12, 16, F\"instancias/instancias-calidad/CMI_n12.in\"])\n",
    "filas_indice.append([\"instancias-calidad\", F\"CMI_n14\", 14, 12, F\"instancias/instancias-calidad/CMI_n14.in\"])\n",
    "filas_indice.append([\"instancias-calidad\", F\"CMI_n16\", 16, 20, F\"instancias/instancias-calidad/CMI_n16.in\"])\n",
    "filas_indice.append([\"instancias-calidad\", F\"CMI_n18\", 18, 27, F\"instancias/instancias-calidad/CMI_n18.in\"])\n",
    "filas_indice.append([\"instancias-calidad\", F\"CMI_n20\", 20, 25, F\"instancias/instancias-calidad/CMI_n20.in\"])\n",
    "filas_indice.append([\"instancias-calidad\", F\"CMI_n22\", 22, 26, F\"instancias/instancias-calidad/CMI_n22.in\"])\n",
    "filas_indice.append([\"instancias-calidad\", F\"CMI_n24\", 24, 33, F\"instancias/instancias-calidad/CMI_n24.in\"])\n",
    "filas_indice.append([\"instancias-calidad\", F\"CMI_n26\", 26, 38, F\"instancias/instancias-calidad/CMI_n26.in\"])\n",
    "filas_indice.append([\"instancias-calidad\", F\"CMI_n28\", 28, 48, F\"instancias/instancias-calidad/CMI_n28.in\"])\n",
    "filas_indice.append([\"instancias-calidad\", F\"CMI_n30\", 30, 47, F\"instancias/instancias-calidad/CMI_n30.in\"])\n",
    "pd.DataFrame(filas_indice, columns=[\"dataset\", \"instancia\", \"cantidad_vertices\", \"impacto_esperado\", \"archivo\"]).to_csv(\"instancias/instancias-calidad/indice.csv\", index=False, header=True)"
   ]
  },
  {
   "cell_type": "code",
   "execution_count": null,
   "metadata": {},
   "outputs": [],
   "source": []
  }
 ],
 "metadata": {
  "kernelspec": {
   "display_name": "Python 3",
   "language": "python",
   "name": "python3"
  },
  "language_info": {
   "codemirror_mode": {
    "name": "ipython",
    "version": 3
   },
   "file_extension": ".py",
   "mimetype": "text/x-python",
   "name": "python",
   "nbconvert_exporter": "python",
   "pygments_lexer": "ipython3",
   "version": "3.8.5"
  }
 },
 "nbformat": 4,
 "nbformat_minor": 4
}
